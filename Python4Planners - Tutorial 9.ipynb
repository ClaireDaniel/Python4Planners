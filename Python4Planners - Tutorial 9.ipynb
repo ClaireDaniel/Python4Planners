{
 "cells": [
  {
   "cell_type": "code",
   "execution_count": null,
   "metadata": {},
   "outputs": [],
   "source": []
  },
  {
   "cell_type": "code",
   "execution_count": null,
   "metadata": {},
   "outputs": [],
   "source": []
  },
  {
   "cell_type": "code",
   "execution_count": null,
   "metadata": {},
   "outputs": [],
   "source": []
  },
  {
   "cell_type": "code",
   "execution_count": null,
   "metadata": {},
   "outputs": [],
   "source": []
  },
  {
   "cell_type": "code",
   "execution_count": null,
   "metadata": {},
   "outputs": [],
   "source": [
    "applications = [\n",
    "    {\n",
    "        \"address\":\"1 Palm Ave, Fakepalms\",\n",
    "        \"no_dwellings\":6,\n",
    "        \"affordable_dwellings\":3,  \n",
    "    },{\n",
    "        \"address\":\"15 Oak Drive, Fakepalms\",\n",
    "        \"no_dwellings\":10,\n",
    "        \"affordable_dwellings\":2,  \n",
    "    },{\n",
    "        \"address\":\"7 Boundary Street, Fakepalms\",\n",
    "        \"no_dwellings\":10,\n",
    "        \"affordable_dwellings\":0,  \n",
    "    }\n",
    "]\n",
    "print(applications)"
   ]
  },
  {
   "cell_type": "markdown",
   "metadata": {},
   "source": [
    "## This is the original program from tutorial 4"
   ]
  },
  {
   "cell_type": "code",
   "execution_count": null,
   "metadata": {},
   "outputs": [],
   "source": [
    "#First define your variables\n",
    "no_dw = 6\n",
    "address = '1 Boundary Street, Fakepalms'\n",
    "\n",
    "cf = 10000\n",
    "tp = 15000\n",
    "us = 12000\n",
    "\n",
    "#Then caculate the charge\n",
    "final_charge = no_dw * cf + no_dw * tp + no_dw * us\n",
    "\n",
    "#Then print the result\n",
    "print(\"The final charge for \" + address + \" is: \" + str(final_charge))"
   ]
  },
  {
   "cell_type": "markdown",
   "metadata": {},
   "source": [
    "## Try writing a new program using the structured data in a loop"
   ]
  },
  {
   "cell_type": "code",
   "execution_count": null,
   "metadata": {},
   "outputs": [],
   "source": []
  },
  {
   "cell_type": "code",
   "execution_count": null,
   "metadata": {},
   "outputs": [],
   "source": []
  }
 ],
 "metadata": {
  "kernelspec": {
   "display_name": "Python 3",
   "language": "python",
   "name": "python3"
  },
  "language_info": {
   "codemirror_mode": {
    "name": "ipython",
    "version": 3
   },
   "file_extension": ".py",
   "mimetype": "text/x-python",
   "name": "python",
   "nbconvert_exporter": "python",
   "pygments_lexer": "ipython3",
   "version": "3.7.1"
  }
 },
 "nbformat": 4,
 "nbformat_minor": 2
}
