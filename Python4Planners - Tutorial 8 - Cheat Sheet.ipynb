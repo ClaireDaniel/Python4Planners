{
 "cells": [
  {
   "cell_type": "code",
   "execution_count": 3,
   "metadata": {},
   "outputs": [
    {
     "name": "stdout",
     "output_type": "stream",
     "text": [
      "{'applicant': 'Alex Smith', 'types': ['Residential', 'Commercial'], 'dwellings': 6}\n"
     ]
    },
    {
     "data": {
      "text/plain": [
       "dict"
      ]
     },
     "execution_count": 3,
     "metadata": {},
     "output_type": "execute_result"
    }
   ],
   "source": [
    "app_data = {\"applicant\":\"Alex Smith\", \"types\":[\"Residential\", \"Commercial\"], \"dwellings\":6}\n",
    "print(app_data)\n",
    "type(app_data)"
   ]
  },
  {
   "cell_type": "code",
   "execution_count": 4,
   "metadata": {},
   "outputs": [
    {
     "name": "stdout",
     "output_type": "stream",
     "text": [
      "{'applicant': 'Alex Smith', 'dwellings': 6}\n"
     ]
    }
   ],
   "source": [
    "short_app_data = {\"applicant\":\"Alex Smith\", \"dwellings\":6}\n",
    "print(short_app_data)"
   ]
  },
  {
   "cell_type": "code",
   "execution_count": 5,
   "metadata": {},
   "outputs": [
    {
     "data": {
      "text/plain": [
       "'Alex Smith'"
      ]
     },
     "execution_count": 5,
     "metadata": {},
     "output_type": "execute_result"
    }
   ],
   "source": [
    "app_data[\"applicant\"]"
   ]
  },
  {
   "cell_type": "code",
   "execution_count": 6,
   "metadata": {},
   "outputs": [
    {
     "data": {
      "text/plain": [
       "6"
      ]
     },
     "execution_count": 6,
     "metadata": {},
     "output_type": "execute_result"
    }
   ],
   "source": [
    "app_data[\"dwellings\"]"
   ]
  },
  {
   "cell_type": "code",
   "execution_count": 7,
   "metadata": {},
   "outputs": [
    {
     "data": {
      "text/plain": [
       "'Residential'"
      ]
     },
     "execution_count": 7,
     "metadata": {},
     "output_type": "execute_result"
    }
   ],
   "source": [
    "app_data[\"types\"][0]"
   ]
  },
  {
   "cell_type": "code",
   "execution_count": 8,
   "metadata": {},
   "outputs": [
    {
     "name": "stdout",
     "output_type": "stream",
     "text": [
      "{'applicant': 'Alex Smith', 'land_owners': ['Ash Smith', 'Alex Smith', 'Landev'], 'types': {'primary': 'Residential', 'secondary': 'Commercial'}, 'dwellings': 6, 'floor_area': 2000.5}\n"
     ]
    }
   ],
   "source": [
    "app_data_full = {\"applicant\":\"Alex Smith\", \n",
    "                 \"land_owners\":[\"Ash Smith\", \"Alex Smith\", \"Landev\"],\n",
    "                 \"types\":{\"primary\":\"Residential\", \"secondary\":\"Commercial\"}, \n",
    "                 \"dwellings\":6,\n",
    "                 \"floor_area\":2000.5}\n",
    "print(app_data_full)"
   ]
  },
  {
   "cell_type": "code",
   "execution_count": 9,
   "metadata": {},
   "outputs": [
    {
     "data": {
      "text/plain": [
       "'Landev'"
      ]
     },
     "execution_count": 9,
     "metadata": {},
     "output_type": "execute_result"
    }
   ],
   "source": [
    "app_data_full[\"land_owners\"][2]"
   ]
  },
  {
   "cell_type": "code",
   "execution_count": 10,
   "metadata": {},
   "outputs": [
    {
     "data": {
      "text/plain": [
       "'Commercial'"
      ]
     },
     "execution_count": 10,
     "metadata": {},
     "output_type": "execute_result"
    }
   ],
   "source": [
    "app_data_full[\"types\"][\"secondary\"]"
   ]
  },
  {
   "cell_type": "code",
   "execution_count": 12,
   "metadata": {},
   "outputs": [
    {
     "name": "stdout",
     "output_type": "stream",
     "text": [
      "{'applicant': 'Fast Approvals Consultants', 'land_owners': ['Ash Smith', 'Alex Smith', 'Landev'], 'types': {'primary': 'Residential', 'secondary': 'Commercial'}, 'dwellings': 6, 'floor_area': 2000.5}\n"
     ]
    }
   ],
   "source": [
    "app_data_full[\"applicant\"] = \"Fast Approvals Consultants\"\n",
    "print(app_data_full)"
   ]
  },
  {
   "cell_type": "code",
   "execution_count": 13,
   "metadata": {},
   "outputs": [
    {
     "name": "stdout",
     "output_type": "stream",
     "text": [
      "{'applicant': 'Fast Approvals Consultants', 'land_owners': ['Ash Smith', 'Alex Smith', 'Landev'], 'types': {'primary': 'Residential', 'secondary': 'Commercial'}, 'dwellings': 6, 'floor_area': 2000.5, 'address': '100 Palm Boulevard, Lakeside'}\n"
     ]
    }
   ],
   "source": [
    "app_data_full[\"address\"] = \"100 Palm Boulevard, Lakeside\"\n",
    "print(app_data_full)"
   ]
  },
  {
   "cell_type": "code",
   "execution_count": 14,
   "metadata": {},
   "outputs": [
    {
     "name": "stdout",
     "output_type": "stream",
     "text": [
      "{'applicant': 'Fast Approvals Consultants', 'types': {'primary': 'Residential', 'secondary': 'Commercial'}, 'dwellings': 6, 'floor_area': 2000.5, 'address': '100 Palm Boulevard, Lakeside'}\n"
     ]
    }
   ],
   "source": [
    "del app_data_full['land_owners']\n",
    "print(app_data_full)"
   ]
  },
  {
   "cell_type": "code",
   "execution_count": null,
   "metadata": {},
   "outputs": [],
   "source": []
  }
 ],
 "metadata": {
  "kernelspec": {
   "display_name": "Python 3",
   "language": "python",
   "name": "python3"
  },
  "language_info": {
   "codemirror_mode": {
    "name": "ipython",
    "version": 3
   },
   "file_extension": ".py",
   "mimetype": "text/x-python",
   "name": "python",
   "nbconvert_exporter": "python",
   "pygments_lexer": "ipython3",
   "version": "3.7.1"
  }
 },
 "nbformat": 4,
 "nbformat_minor": 2
}
