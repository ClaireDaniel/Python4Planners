{
 "cells": [
  {
   "cell_type": "code",
   "execution_count": 1,
   "metadata": {},
   "outputs": [],
   "source": [
    "class thing:\n",
    "    face = True\n",
    "    eyes = 12"
   ]
  },
  {
   "cell_type": "code",
   "execution_count": 2,
   "metadata": {},
   "outputs": [],
   "source": [
    "my_thingy = thing()"
   ]
  },
  {
   "cell_type": "code",
   "execution_count": 3,
   "metadata": {},
   "outputs": [
    {
     "data": {
      "text/plain": [
       "True"
      ]
     },
     "execution_count": 3,
     "metadata": {},
     "output_type": "execute_result"
    }
   ],
   "source": [
    "my_thingy.face"
   ]
  },
  {
   "cell_type": "code",
   "execution_count": 4,
   "metadata": {},
   "outputs": [
    {
     "data": {
      "text/plain": [
       "12"
      ]
     },
     "execution_count": 4,
     "metadata": {},
     "output_type": "execute_result"
    }
   ],
   "source": [
    "my_thingy.eyes"
   ]
  },
  {
   "cell_type": "code",
   "execution_count": 5,
   "metadata": {},
   "outputs": [
    {
     "name": "stdout",
     "output_type": "stream",
     "text": [
      "False\n"
     ]
    }
   ],
   "source": [
    "my_thingy.face = False\n",
    "print(my_thingy.face)"
   ]
  },
  {
   "cell_type": "code",
   "execution_count": 6,
   "metadata": {},
   "outputs": [
    {
     "name": "stdout",
     "output_type": "stream",
     "text": [
      "20\n"
     ]
    }
   ],
   "source": [
    "my_thingy.toes = 20\n",
    "print(my_thingy.toes)"
   ]
  },
  {
   "cell_type": "code",
   "execution_count": 7,
   "metadata": {},
   "outputs": [],
   "source": [
    "class dev_app:\n",
    "    \n",
    "    def __init__(self, dev_type, address, documents):\n",
    "        \n",
    "        self.dev_type = dev_type\n",
    "        self.address = address\n",
    "        self.documents = documents\n",
    "        "
   ]
  },
  {
   "cell_type": "code",
   "execution_count": 8,
   "metadata": {},
   "outputs": [],
   "source": [
    "new_app = dev_app('residential', \n",
    "                      '1 Boundary Street, Fakepalms', \n",
    "                      [\"owners_consent\", \"planning_report\"])\n",
    "\n"
   ]
  },
  {
   "cell_type": "code",
   "execution_count": 9,
   "metadata": {},
   "outputs": [
    {
     "name": "stdout",
     "output_type": "stream",
     "text": [
      "residential\n",
      "1 Boundary Street, Fakepalms\n",
      "['owners_consent', 'planning_report']\n"
     ]
    }
   ],
   "source": [
    "print(new_app.dev_type)\n",
    "print(new_app.address)\n",
    "print(new_app.documents)"
   ]
  },
  {
   "cell_type": "code",
   "execution_count": 10,
   "metadata": {},
   "outputs": [],
   "source": [
    "class dev_app:\n",
    "    \n",
    "    def __init__(self, dev_type, address, documents):\n",
    "        \n",
    "        # Assign input values as variables accessed by dot notation\n",
    "        self.dev_type = dev_type\n",
    "        self.address = address\n",
    "        self.documents = documents\n",
    "        \n",
    "    def consent_check(self): #Method to check if owners consent has been provided\n",
    "        \n",
    "        if \"owners_consent\" in self.documents:\n",
    "            print(\"Consent has been provided\")\n",
    "            self.consent = True\n",
    "        else:\n",
    "            print(\"Consent not provided, advise applicant to resubmit\")\n",
    "            self.consent = False\n",
    "        "
   ]
  },
  {
   "cell_type": "code",
   "execution_count": 11,
   "metadata": {},
   "outputs": [],
   "source": [
    "new_app_2 = dev_app('residential', \n",
    "                      '1 Boundary Street, Fakepalms', \n",
    "                      [\"owners_consent\", \"planning_report\"])"
   ]
  },
  {
   "cell_type": "code",
   "execution_count": 12,
   "metadata": {},
   "outputs": [
    {
     "name": "stdout",
     "output_type": "stream",
     "text": [
      "Consent has been provided\n"
     ]
    }
   ],
   "source": [
    "new_app_2.consent_check()"
   ]
  },
  {
   "cell_type": "code",
   "execution_count": 13,
   "metadata": {},
   "outputs": [],
   "source": [
    "class dev_app:\n",
    "    \n",
    "    def __init__(self, dev_type, address, documents, dw_count = 0): #default provided in case app has no dwellings\n",
    "        \n",
    "        # Assign input values as variables accessed by dot notation\n",
    "        self.dev_type = dev_type\n",
    "        self.address = address\n",
    "        self.documents = documents\n",
    "        self.dw_count = dw_count\n",
    "        \n",
    "    def consent_check(self): #Method to check if owners consent has been provided\n",
    "        \n",
    "        if \"owners_consent\" in self.documents:\n",
    "            print(\"Consent has been provided\")\n",
    "            self.consent = True\n",
    "        else:\n",
    "            print(\"Consent not provided, advise applicant to resubmit\")\n",
    "            self.consent = False\n",
    "    \n",
    "    def res_charges(self): #Method to calculate infrastructure charges for residential applications\n",
    "        \n",
    "        if self.dev_type == 'residential':\n",
    "            \n",
    "            #Infrastructure charges\n",
    "            cf = 10000\n",
    "            tp = 15000\n",
    "            us = 12000\n",
    "\n",
    "            self.res_charge = self.dw_count * cf + self.dw_count * tp + self.dw_count * us\n",
    "            \n",
    "            print(\"Residential charges for \" + self.address + \" calculated at: \" + str(self.res_charge))\n",
    "        \n",
    "        else:\n",
    "            print(\"Not applicable for non-residential application\")\n",
    "        "
   ]
  },
  {
   "cell_type": "code",
   "execution_count": 14,
   "metadata": {},
   "outputs": [],
   "source": [
    "new_app_3 = dev_app('residential', \n",
    "                      '1 Boundary Street, Fakepalms', \n",
    "                      [\"owners_consent\", \"planning_report\"],\n",
    "                       dw_count = 10)"
   ]
  },
  {
   "cell_type": "code",
   "execution_count": 15,
   "metadata": {},
   "outputs": [
    {
     "name": "stdout",
     "output_type": "stream",
     "text": [
      "Residential charges for 1 Boundary Street, Fakepalms calculated at: 370000\n"
     ]
    }
   ],
   "source": [
    "new_app_3.res_charges()"
   ]
  }
 ],
 "metadata": {
  "kernelspec": {
   "display_name": "Python 3",
   "language": "python",
   "name": "python3"
  },
  "language_info": {
   "codemirror_mode": {
    "name": "ipython",
    "version": 3
   },
   "file_extension": ".py",
   "mimetype": "text/x-python",
   "name": "python",
   "nbconvert_exporter": "python",
   "pygments_lexer": "ipython3",
   "version": "3.7.1"
  }
 },
 "nbformat": 4,
 "nbformat_minor": 2
}
