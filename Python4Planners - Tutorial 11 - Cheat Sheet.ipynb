{
 "cells": [
  {
   "cell_type": "code",
   "execution_count": 1,
   "metadata": {},
   "outputs": [],
   "source": [
    "def my_first_function():\n",
    "    print(\"Woohoo, my function works, I am the magic coding planning wizard!\")"
   ]
  },
  {
   "cell_type": "code",
   "execution_count": 2,
   "metadata": {},
   "outputs": [
    {
     "name": "stdout",
     "output_type": "stream",
     "text": [
      "Woohoo, my function works, I am the magic coding planning wizard!\n"
     ]
    }
   ],
   "source": [
    "my_first_function()"
   ]
  },
  {
   "cell_type": "code",
   "execution_count": null,
   "metadata": {},
   "outputs": [],
   "source": [
    "#Dwelling attributes\n",
    "no_dw = 6\n",
    "address = '1 Boundary Street, Fakepalms'\n",
    "\n",
    "#Infrastructure charges\n",
    "cf = 10000\n",
    "tp = 15000\n",
    "us = 12000\n",
    "\n",
    "#Then caculate the charge\n",
    "final_charge = no_dw * cf + no_dw * tp + no_dw * us\n",
    "\n",
    "#Then print the result\n",
    "print(\"The final charge for \" + address + \" is: \" + str(final_charge))"
   ]
  },
  {
   "cell_type": "code",
   "execution_count": null,
   "metadata": {},
   "outputs": [],
   "source": [
    "def charge_calculator():\n",
    "    \n",
    "    #Dwelling attributes\n",
    "    no_dw = 6\n",
    "    address = '1 Boundary Street, Fakepalms'\n",
    "    \n",
    "    #Infrastructure charges\n",
    "    cf = 10000\n",
    "    tp = 15000\n",
    "    us = 12000\n",
    "\n",
    "    #Then caculate the charge\n",
    "    final_charge = no_dw * cf + no_dw * tp + no_dw * us\n",
    "\n",
    "    #Then print the result\n",
    "    print(\"The final charge for \" + address + \" is: \" + str(final_charge))"
   ]
  },
  {
   "cell_type": "code",
   "execution_count": null,
   "metadata": {},
   "outputs": [],
   "source": [
    "charge_calculator()"
   ]
  },
  {
   "cell_type": "code",
   "execution_count": null,
   "metadata": {},
   "outputs": [],
   "source": [
    "def number_printer(input_number):\n",
    "    print(\"My chosen number is: \" + str(input_number))"
   ]
  },
  {
   "cell_type": "code",
   "execution_count": null,
   "metadata": {},
   "outputs": [],
   "source": [
    "number_printer(5)"
   ]
  },
  {
   "cell_type": "code",
   "execution_count": null,
   "metadata": {},
   "outputs": [],
   "source": [
    "def charge_calculator(no_dw, address):\n",
    "    \n",
    "    #Infrastructure charges\n",
    "    cf = 10000\n",
    "    tp = 15000\n",
    "    us = 12000\n",
    "\n",
    "    #Then caculate the charge\n",
    "    final_charge = no_dw * cf + no_dw * tp + no_dw * us\n",
    "\n",
    "    #Then print the result\n",
    "    print(\"The final charge for \" + address + \" is: \" + str(final_charge))"
   ]
  },
  {
   "cell_type": "code",
   "execution_count": null,
   "metadata": {},
   "outputs": [],
   "source": [
    "charge_calculator(6, '1 Boundary Street, Fakepalms')"
   ]
  },
  {
   "cell_type": "code",
   "execution_count": null,
   "metadata": {},
   "outputs": [],
   "source": [
    "charge_calculator(2, '16 Spring Street, Fakepalms')"
   ]
  },
  {
   "cell_type": "code",
   "execution_count": null,
   "metadata": {},
   "outputs": [],
   "source": [
    "charge_calculator('16 Spring Street, Fakepalms', 2)"
   ]
  },
  {
   "cell_type": "code",
   "execution_count": null,
   "metadata": {},
   "outputs": [],
   "source": [
    "charge_calculator(address = '16 Spring Street, Fakepalms', no_dw = 2)"
   ]
  },
  {
   "cell_type": "code",
   "execution_count": null,
   "metadata": {},
   "outputs": [],
   "source": [
    "def number_printer(input_number = 5):\n",
    "    print(\"My chosen number is: \" + str(input_number))"
   ]
  },
  {
   "cell_type": "code",
   "execution_count": null,
   "metadata": {},
   "outputs": [],
   "source": [
    "number_printer()"
   ]
  },
  {
   "cell_type": "code",
   "execution_count": null,
   "metadata": {},
   "outputs": [],
   "source": [
    "def charge_calculator(no_dw, address, cf = 10000, tp = 15000, us = 12000):\n",
    "\n",
    "    #Then caculate the charge\n",
    "    final_charge = no_dw * cf + no_dw * tp + no_dw * us\n",
    "\n",
    "    #Then print the result\n",
    "    print(\"The final charge for \" + address + \" is: \" + str(final_charge))"
   ]
  },
  {
   "cell_type": "code",
   "execution_count": null,
   "metadata": {},
   "outputs": [],
   "source": [
    "charge_calculator(address = '16 Spring Street, Fakepalms', no_dw = 2)"
   ]
  },
  {
   "cell_type": "code",
   "execution_count": null,
   "metadata": {},
   "outputs": [],
   "source": [
    "charge_calculator(address = '16 Spring Street, Fakepalms', no_dw = 2, cf = 15000)"
   ]
  },
  {
   "cell_type": "code",
   "execution_count": null,
   "metadata": {},
   "outputs": [],
   "source": [
    "def add_five(input_number):\n",
    "    new_number = input_number + 5\n",
    "    return new_number"
   ]
  },
  {
   "cell_type": "code",
   "execution_count": null,
   "metadata": {},
   "outputs": [],
   "source": [
    "my_variable = add_five(10)\n",
    "print(my_variable)"
   ]
  },
  {
   "cell_type": "code",
   "execution_count": null,
   "metadata": {},
   "outputs": [],
   "source": [
    "def charge_calculator(no_dw, address, cf = 10000, tp = 15000, us = 12000):\n",
    "\n",
    "    #Then caculate the charge\n",
    "    final_charge = no_dw * cf + no_dw * tp + no_dw * us\n",
    "\n",
    "    #Then print the result\n",
    "    print(\"The final charge for \" + address + \" is: \" + str(final_charge))\n",
    "    \n",
    "    return final_charge"
   ]
  },
  {
   "cell_type": "code",
   "execution_count": null,
   "metadata": {},
   "outputs": [],
   "source": [
    "charge_amount = charge_calculator(address = '16 Spring Street, Fakepalms', no_dw = 2)\n",
    "print(charge_amount)"
   ]
  },
  {
   "cell_type": "code",
   "execution_count": null,
   "metadata": {},
   "outputs": [],
   "source": []
  }
 ],
 "metadata": {
  "kernelspec": {
   "display_name": "Python 3",
   "language": "python",
   "name": "python3"
  },
  "language_info": {
   "codemirror_mode": {
    "name": "ipython",
    "version": 3
   },
   "file_extension": ".py",
   "mimetype": "text/x-python",
   "name": "python",
   "nbconvert_exporter": "python",
   "pygments_lexer": "ipython3",
   "version": "3.7.1"
  }
 },
 "nbformat": 4,
 "nbformat_minor": 2
}
