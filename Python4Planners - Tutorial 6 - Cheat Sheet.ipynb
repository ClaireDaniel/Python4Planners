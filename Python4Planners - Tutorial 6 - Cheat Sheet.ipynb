{
 "cells": [
  {
   "cell_type": "code",
   "execution_count": null,
   "metadata": {},
   "outputs": [],
   "source": [
    "cake = True\n",
    "\n",
    "if cake:\n",
    "    print(\"I love cake\")\n",
    "    print(\"This is a good day\")"
   ]
  },
  {
   "cell_type": "code",
   "execution_count": null,
   "metadata": {},
   "outputs": [],
   "source": [
    "cake = True\n",
    "\n",
    "if cake:\n",
    "    print(\"I love cake\")\n",
    "     print(\"This is a good day\")"
   ]
  },
  {
   "cell_type": "code",
   "execution_count": 1,
   "metadata": {},
   "outputs": [],
   "source": [
    "cake = 5\n",
    "python = 8"
   ]
  },
  {
   "cell_type": "code",
   "execution_count": 2,
   "metadata": {},
   "outputs": [
    {
     "name": "stdout",
     "output_type": "stream",
     "text": [
      "I admire your dedication\n"
     ]
    }
   ],
   "source": [
    "if python > cake:\n",
    "    print(\"I admire your dedication\")\n",
    "else:\n",
    "    print(\"Get your priorities straight!\")"
   ]
  },
  {
   "cell_type": "code",
   "execution_count": null,
   "metadata": {},
   "outputs": [],
   "source": [
    "if python > cake:\n",
    "    print(\"I admire your dedication\")\n",
    "elif python == cake:\n",
    "    print(\"Stop hedging your bets\")\n",
    "else:\n",
    "    print(\"Get your priorities straight!\")"
   ]
  },
  {
   "cell_type": "markdown",
   "metadata": {},
   "source": [
    "### Original program from tutorial 4"
   ]
  },
  {
   "cell_type": "code",
   "execution_count": null,
   "metadata": {},
   "outputs": [],
   "source": [
    "#Original Program from Tutorial 4\n",
    "\n",
    "#First define your variables\n",
    "no_dw = 6\n",
    "address = '1 Boundary Street, Fakepalms'\n",
    "\n",
    "cf = 10000\n",
    "tp = 15000\n",
    "us = 12000\n",
    "\n",
    "#Then caculate the charge\n",
    "final_charge = no_dw * cf + no_dw * tp + no_dw * us\n",
    "\n",
    "#Then print the result\n",
    "print(\"The final charge for \" + address + \" is: \" + str(final_charge))"
   ]
  },
  {
   "cell_type": "markdown",
   "metadata": {},
   "source": [
    "### New data for a commercial development"
   ]
  },
  {
   "cell_type": "code",
   "execution_count": null,
   "metadata": {},
   "outputs": [],
   "source": [
    "#First define your variables\n",
    "dev_type = 'Commercial' \n",
    "sub_type = 'Factory'\n",
    "area = 100\n",
    "address = '1 Boundary Street, Fakepalms'"
   ]
  },
  {
   "cell_type": "markdown",
   "metadata": {},
   "source": [
    "### Modified program"
   ]
  },
  {
   "cell_type": "code",
   "execution_count": 9,
   "metadata": {},
   "outputs": [
    {
     "name": "stdout",
     "output_type": "stream",
     "text": [
      "The final charge for 1 Boundary Street, Fakepalms is: $315000.0\n"
     ]
    }
   ],
   "source": [
    "#Calculate the charge\n",
    "if dev_type == 'Residential':\n",
    "    \n",
    "    cf = 10000\n",
    "    tp = 15000\n",
    "    us = 12000\n",
    "    \n",
    "    final_charge = no_dw * cf + no_dw * tp + no_dw * us\n",
    "    \n",
    "elif dev_type == 'Commercial':\n",
    "    \n",
    "    cf = 1000\n",
    "    tp = 2000\n",
    "    us = 1500\n",
    "    \n",
    "    final_charge = area * cf + area * tp + area * us\n",
    "    \n",
    "    if sub_type == \"Factory\":\n",
    "        \n",
    "        final_charge = final_charge * 0.7\n",
    "        \n",
    "#Then print the result\n",
    "print(\"The final charge for \" + address + \" is: $\" + str(final_charge))"
   ]
  }
 ],
 "metadata": {
  "kernelspec": {
   "display_name": "Python 3",
   "language": "python",
   "name": "python3"
  },
  "language_info": {
   "codemirror_mode": {
    "name": "ipython",
    "version": 3
   },
   "file_extension": ".py",
   "mimetype": "text/x-python",
   "name": "python",
   "nbconvert_exporter": "python",
   "pygments_lexer": "ipython3",
   "version": "3.7.1"
  }
 },
 "nbformat": 4,
 "nbformat_minor": 2
}
