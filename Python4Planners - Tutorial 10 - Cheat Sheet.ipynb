{
 "cells": [
  {
   "cell_type": "markdown",
   "metadata": {},
   "source": [
    "In this tutorial we will need to import a \"package\". This particial package is called **random** and it that will provide a function for us to generate random numbers. We will learn all about how to find and use packages very soon"
   ]
  },
  {
   "cell_type": "code",
   "execution_count": 1,
   "metadata": {},
   "outputs": [],
   "source": [
    "import random #Importing a package - we will get to this soon"
   ]
  },
  {
   "cell_type": "code",
   "execution_count": 2,
   "metadata": {
    "scrolled": true
   },
   "outputs": [
    {
     "name": "stdout",
     "output_type": "stream",
     "text": [
      "2\n",
      "12\n",
      "19\n",
      "28\n",
      "33\n",
      "43\n",
      "51\n",
      "54\n",
      "62\n",
      "68\n",
      "75\n",
      "77\n",
      "78\n",
      "81\n",
      "83\n",
      "84\n",
      "93\n",
      "Random number now at maxiumum: 102\n"
     ]
    }
   ],
   "source": [
    "random_number = random.randint(0,10) #Generate a random number between 0 and 10\n",
    "\n",
    "while random_number < 100:\n",
    "    \n",
    "    print(random_number)\n",
    "    \n",
    "    random_number = random_number + random.randint(0,10) #Update random number\n",
    "    \n",
    "    \n",
    "print(\"Random number now at maxiumum: \" + str(random_number))"
   ]
  },
  {
   "cell_type": "markdown",
   "metadata": {},
   "source": [
    "### Example of infinite loop"
   ]
  },
  {
   "cell_type": "code",
   "execution_count": null,
   "metadata": {},
   "outputs": [],
   "source": [
    "random_number = random.randint(0,10)\n",
    "\n",
    "while random_number < 100:\n",
    "    print(random_number)\n",
    "    \n",
    "print(\"Random number now at maxiumum: \" + str(random_number))"
   ]
  },
  {
   "cell_type": "markdown",
   "metadata": {},
   "source": [
    "### Air quality monitoring program"
   ]
  },
  {
   "cell_type": "code",
   "execution_count": 6,
   "metadata": {},
   "outputs": [
    {
     "name": "stdout",
     "output_type": "stream",
     "text": [
      "Check number: 1\n",
      "Air quality OK, CO2 ppm: 2994.7169996881607\n",
      "Check number: 2\n",
      "Air Quality NOT OK, CO2 ppm: 6941 DO SOMETHING!\n"
     ]
    }
   ],
   "source": [
    "CO2_ppm = random.uniform(250,10000) #Pretend live feed from a sensor\n",
    "i = 1 #counter to keep track of number of times the code has run\n",
    "\n",
    "while CO2_ppm < 5000:\n",
    "    \n",
    "    print(\"Check number: \" + str(i))\n",
    "    print(\"Air quality OK, CO2 ppm: \" + str(CO2_ppm))\n",
    "    \n",
    "    CO2_ppm = random.randint(250,10000)#Re-calculate pretend live ffed from a sensor\n",
    "    i = i + 1 #Add one to the counter\n",
    "\n",
    "print(\"Check number: \" + str(i))\n",
    "print(\"Air Quality NOT OK, CO2 ppm: \" + str(CO2_ppm) + \" DO SOMETHING!\")"
   ]
  },
  {
   "cell_type": "code",
   "execution_count": 7,
   "metadata": {},
   "outputs": [
    {
     "name": "stdout",
     "output_type": "stream",
     "text": [
      "Check number: 1\n",
      "Air quality OK, CO2 ppm: 6816.155673267989, NO2_ppm: 0.02793697358362709\n",
      "Check number: 2\n",
      "Air quality OK, CO2 ppm: 7999.654704964197, NO2_ppm: 0.046023881395509086\n",
      "Check number: 3\n",
      "Air Quality NOT OK, CO2 ppm: 6883.628580613319, NO2_ppm: 0.052712272890057095 DO SOMETHING!\n"
     ]
    }
   ],
   "source": [
    "CO2_ppm = random.uniform(250,10000) #Pretend live feed from a sensor\n",
    "NO2_ppm = random.uniform(0,0.06) #Pretend live feed from a sensor\n",
    "i = 1 #counter `to keep track of number of times the code has run\n",
    "\n",
    "while CO2_ppm < 5000 or NO2_ppm < 0.05:\n",
    "    \n",
    "    print(\"Check number: \" + str(i))\n",
    "    print(\"Air quality OK, CO2 ppm: \" + str(CO2_ppm) + \", NO2_ppm: \" + str(NO2_ppm))\n",
    "    \n",
    "    CO2_ppm = random.uniform(250,10000)#Re-calculate pretend live ffed from a sensor\n",
    "    NO2_ppm = random.uniform(0,0.06)\n",
    "    i = i + 1 #Add one to the counter\n",
    "\n",
    "print(\"Check number: \" + str(i))\n",
    "print(\"Air Quality NOT OK, CO2 ppm: \" + str(CO2_ppm) + \", NO2_ppm: \" + str(NO2_ppm) + \" DO SOMETHING!\")"
   ]
  },
  {
   "cell_type": "code",
   "execution_count": null,
   "metadata": {},
   "outputs": [],
   "source": []
  }
 ],
 "metadata": {
  "kernelspec": {
   "display_name": "Python 3",
   "language": "python",
   "name": "python3"
  },
  "language_info": {
   "codemirror_mode": {
    "name": "ipython",
    "version": 3
   },
   "file_extension": ".py",
   "mimetype": "text/x-python",
   "name": "python",
   "nbconvert_exporter": "python",
   "pygments_lexer": "ipython3",
   "version": "3.7.1"
  }
 },
 "nbformat": 4,
 "nbformat_minor": 2
}
